{
 "cells": [
  {
   "cell_type": "markdown",
   "metadata": {},
   "source": [
    "# 3. Zoeken naar een combinatie van termen\n",
    "Als je op zoek bent naar samenhang tussen twee zaken wil je testen of de termen die naar die zaken verwijzen inderdaad in combinatie met elkaar voorkomen. Dan moet je bepalen op welke varianten van die twee termen je wilt zoeken en wat de minimale en maximale afstand tussen die termen moet zijn. \n",
    "\n",
    "In de onderstaande code kun je op de eerste plaats twee zoektermen opgeven, als waarden van `search_term1` en `search_term2`. De variabele `window` specificeert de maximale afstand tussen deze twee woorden. \n",
    "\n",
    "De code gaat vervolgens op zoek naar alle passages van de opgegeven lengte waar de beide zoektermen in voorkomen. De gevonden passages worden in dit notebook getoond wanneer de code wordt uitgevoerd, en de resultaten worden eveneens weggeschreven in een bestand met de naam 'cooccurrence.txt'."
   ]
  },
  {
   "cell_type": "code",
   "execution_count": 1,
   "metadata": {},
   "outputs": [],
   "source": [
    "from kitlvTdm import *\n",
    "import os\n",
    "from os.path import join\n",
    "import re\n",
    "import pandas as pd"
   ]
  },
  {
   "cell_type": "code",
   "execution_count": 2,
   "metadata": {
    "scrolled": true
   },
   "outputs": [
    {
     "name": "stdout",
     "output_type": "stream",
     "text": [
      "Reading 03391.txt ... \n",
      "Reading 03392.txt ... \n",
      "Occurrences in De vergeten dagboeken (03392.txt)\n",
      "\n",
      "Reading 03393.txt ... \n",
      "Occurrences in Hij ging, kwam terug en keerde weer (03393.txt)\n",
      "\n",
      "Reading 03394.txt ... \n",
      "Reading 03395.txt ... \n",
      "Reading 03396.txt ... \n",
      "Occurrences in Als de natuur zwijgt (1945) (03396.txt)\n",
      "\n",
      "Reading 03398.txt ... \n",
      "Reading 03399.txt ... \n",
      "Occurrences in Herinneringen : memoires van een christen, militair en politicus (03399.txt)\n",
      "\n",
      "Reading 03400.txt ... \n",
      "Reading 03401.txt ... \n"
     ]
    },
    {
     "ename": "KeyboardInterrupt",
     "evalue": "",
     "output_type": "error",
     "traceback": [
      "\u001b[1;31m---------------------------------------------------------------------------\u001b[0m",
      "\u001b[1;31mKeyboardInterrupt\u001b[0m                         Traceback (most recent call last)",
      "\u001b[1;32mC:\\Users\\GEBRUI~1\\AppData\\Local\\Temp/ipykernel_3108/3067107692.py\u001b[0m in \u001b[0;36m<module>\u001b[1;34m\u001b[0m\n\u001b[0;32m     48\u001b[0m \u001b[1;33m\u001b[0m\u001b[0m\n\u001b[0;32m     49\u001b[0m             \u001b[1;31m# als de gezochte woorden beide voorkomen als los woord in het fragment\u001b[0m\u001b[1;33m\u001b[0m\u001b[1;33m\u001b[0m\u001b[1;33m\u001b[0m\u001b[0m\n\u001b[1;32m---> 50\u001b[1;33m             \u001b[1;32mif\u001b[0m \u001b[0mre\u001b[0m\u001b[1;33m.\u001b[0m\u001b[0msearch\u001b[0m\u001b[1;33m(\u001b[0m \u001b[1;34mr'\\b{}\\b'\u001b[0m\u001b[1;33m.\u001b[0m\u001b[0mformat\u001b[0m\u001b[1;33m(\u001b[0m\u001b[0msearch_term1\u001b[0m\u001b[1;33m)\u001b[0m \u001b[1;33m,\u001b[0m \u001b[0mfragment\u001b[0m \u001b[1;33m,\u001b[0m \u001b[0mre\u001b[0m\u001b[1;33m.\u001b[0m\u001b[0mIGNORECASE\u001b[0m \u001b[1;33m)\u001b[0m \u001b[1;32mand\u001b[0m \u001b[0mre\u001b[0m\u001b[1;33m.\u001b[0m\u001b[0msearch\u001b[0m\u001b[1;33m(\u001b[0m \u001b[1;34mr'\\b{}\\b'\u001b[0m\u001b[1;33m.\u001b[0m\u001b[0mformat\u001b[0m\u001b[1;33m(\u001b[0m\u001b[0msearch_term2\u001b[0m\u001b[1;33m)\u001b[0m \u001b[1;33m,\u001b[0m \u001b[0mfragment\u001b[0m \u001b[1;33m,\u001b[0m \u001b[0mre\u001b[0m\u001b[1;33m.\u001b[0m\u001b[0mIGNORECASE\u001b[0m \u001b[1;33m)\u001b[0m\u001b[1;33m:\u001b[0m\u001b[1;33m\u001b[0m\u001b[1;33m\u001b[0m\u001b[0m\n\u001b[0m\u001b[0;32m     51\u001b[0m \u001b[1;33m\u001b[0m\u001b[0m\n\u001b[0;32m     52\u001b[0m                 '''\n",
      "\u001b[1;31mKeyboardInterrupt\u001b[0m: "
     ]
    }
   ],
   "source": [
    "# Defineer de zoektermen en de seach window\n",
    "search_term1 = 'soldaat'\n",
    "search_term2 = 'geweer'\n",
    "window = 30\n",
    "\n",
    "# In deze map gaat er gezocht worden\n",
    "path = \"Corpus\"\n",
    "\n",
    "df = pd.DataFrame(columns = ['count_within_document','file','title','fragment'])\n",
    "\n",
    "# Het zoeken is hoofdletter gevoelig, daarom worden alle hoofdletters in kleine letters veranderd, hier en in de corpus.\n",
    "search_term1 = search_term1.lower()\n",
    "search_term2 = search_term2.lower()\n",
    "\n",
    "pattern = '####'\n",
    "\n",
    "\n",
    "# Voor ieder bestand in de eerder gedefineerde map\n",
    "for file in os.listdir( path ):\n",
    "    \n",
    "    # Laat zien welk bestand het programma aan het lezen is\n",
    "    print( f\"Reading {file} ...\")\n",
    "    \n",
    "    # Maak een lijst aan waar alle fragmenten in komen\n",
    "    fragments = []\n",
    "    \n",
    "    # Als het bestand een tekst bestand is:\n",
    "    if re.search( 'txt$' , file ):\n",
    "        \n",
    "        # Open het bestand en laad de tekst in de variabele 'fullText'\n",
    "        with open( join( path , file) , encoding = 'utf-8') as egodocument:\n",
    "            fullText = egodocument.read()\n",
    "            \n",
    "        # Zoek en sla alleen de tekst op van iedere bladzijde (bijvoorbeeld niet het bladzijde nummer)\n",
    "        fullText = re.sub( 'page\\s+\\d+', '' , fullText )\n",
    "        \n",
    "        # Verander alle hoofdletters in kleine letters\n",
    "        fullText =  fullText.lower()\n",
    "        \n",
    "        # Identificeer de losse woorden\n",
    "        words = tokenise(fullText)\n",
    "        \n",
    "        # Voor iedere locatie van een woord\n",
    "        for i in range( 0 , (len(words)) ):\n",
    "            \n",
    "            # creeer een fragment van de grootte die gespecificeerd is in 'window'\n",
    "            fragment = ' '.join( words[ i : window+i ] )\n",
    "            \n",
    "            # als de gezochte woorden beide voorkomen als los woord in het fragment\n",
    "            if re.search( r'\\b{}\\b'.format(search_term1) , fragment , re.IGNORECASE ) and re.search( r'\\b{}\\b'.format(search_term2) , fragment , re.IGNORECASE ):\n",
    "                \n",
    "                '''\n",
    "                Dit stukje zorgt ervoor dat een fragment niet vaker gevonden wordt. Als er één woord tussen soldaat en geweer zit\n",
    "                en de 'window' is 30 zijn er 27 verschillende fragmenten voor dezelfde gevonden combinatie.\n",
    "                Om dit te voorkomen wordt er gekeken of in een gevonden fragment de zoektermen op een andere manier tot elkaar staan\n",
    "                en daarmee ook daadwerkelijk een nieuw fragment zijn.                \n",
    "                '''\n",
    "                if not( re.search( pattern , fragment , re.IGNORECASE ) ):\n",
    "                    \n",
    "                    # Voeg het gevonden fragment toe aan de lijst fragments\n",
    "                    fragments.append( fragment )\n",
    "            \n",
    "                    # Voor ieder nummer tussen 0 en het nummer 'window'\n",
    "                    for findex in range( 0 , window ):\n",
    "                        \n",
    "                        # Als de het patroon al bekent is stop met de bovenstaande 'for loop'\n",
    "                        if re.search( r'\\b{}\\b'.format(search_term1) , words[i + findex] , re.IGNORECASE ) or re.search( r'\\b{}\\b'.format(search_term2) , words[i + findex] , re.IGNORECASE ):\n",
    "                            break\n",
    "                    \n",
    "                    # Anders update de variabele pattern naar het nieuw gevonden patroon\n",
    "                    pattern = ' '.join( words[ i + findex : window+i  ] )\n",
    "\n",
    "            # Tel een op bij de plek waar we zijn bij het doorzoeken van de woorden (bovenste for loop)\n",
    "            i = window + i\n",
    "            \n",
    "    documentCount = 0\n",
    "    # Als er resultaten gevonden zijn\n",
    "    if len(fragments) > 0:\n",
    "        \n",
    "        # Vind de titel van het boek en sla het op in de variabele 'title'\n",
    "        title = showTitle(file)\n",
    "        \n",
    "        # Laat het volgende zien met de titel en de naam van het bestand\n",
    "        print(f\"Occurrences in {title} ({file})\\n\")\n",
    "        \n",
    "        # Voor ieder gevonden fragment \n",
    "        for fragment in fragments:\n",
    "            \n",
    "            documentCount += 1\n",
    "            \n",
    "            # Laat het fragment zien\n",
    "#             print(h + '\\n')\n",
    "            \n",
    "            # Schrijf het fragment op in het bestand\n",
    "            df = df.append({'count_within_document' : documentCount,'file' : file, 'title' : title, 'fragment' : fragment}, ignore_index = True)\n",
    "\n",
    "df.to_excel(f\"combination_{searchterm1}_{searchterm2}.xlsx\")\n",
    "print(f\"Excel file saved as combination_{searchterm1}_{searchterm2}.xlsx\")"
   ]
  },
  {
   "cell_type": "markdown",
   "metadata": {},
   "source": [
    "**Ofening 3: Ga, met behulp van de bovenstaande code, op zoek naar passages waarin twee relevante zoektermen in voorkomen. Pas de waarden van de variabelen `search_term1` en `search_term2` aan. Indien nodig kun je ook de waarde van `window` aanpassen.**"
   ]
  }
 ],
 "metadata": {
  "kernelspec": {
   "display_name": "Python 3 (ipykernel)",
   "language": "python",
   "name": "python3"
  },
  "language_info": {
   "codemirror_mode": {
    "name": "ipython",
    "version": 3
   },
   "file_extension": ".py",
   "mimetype": "text/x-python",
   "name": "python",
   "nbconvert_exporter": "python",
   "pygments_lexer": "ipython3",
   "version": "3.7.11"
  }
 },
 "nbformat": 4,
 "nbformat_minor": 4
}
